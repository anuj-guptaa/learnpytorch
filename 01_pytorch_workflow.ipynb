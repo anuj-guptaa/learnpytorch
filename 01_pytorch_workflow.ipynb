{
 "cells": [
  {
   "cell_type": "markdown",
   "id": "e4c285e7-218c-4b1c-96d2-871472d1836f",
   "metadata": {},
   "source": [
    "# PyTorch Workflow\n",
    "\n",
    "Let's explore an exemplar of an end-to-end PyTorch workflow\n"
   ]
  },
  {
   "cell_type": "code",
   "execution_count": 67,
   "id": "97f83d27-6e25-4f15-8603-4b223880b97e",
   "metadata": {
    "tags": []
   },
   "outputs": [
    {
     "data": {
      "text/plain": [
       "{1: 'data (prepare and load)',\n",
       " 2: 'build model',\n",
       " 3: 'fitting the model to data (training)',\n",
       " 4: 'making predictions and evaluating a model (inference)',\n",
       " 5: 'saving and loading a model',\n",
       " 6: 'putting it all together'}"
      ]
     },
     "execution_count": 67,
     "metadata": {},
     "output_type": "execute_result"
    }
   ],
   "source": [
    "what_were_covering = {1: \"data (prepare and load)\",\n",
    "                      2: \"build model\", \n",
    "                      3: \"fitting the model to data (training)\",\n",
    "                      4: \"making predictions and evaluating a model (inference)\",\n",
    "                      5: \"saving and loading a model\",\n",
    "                      6: \"putting it all together\"}\n",
    "\n",
    "what_were_covering"
   ]
  },
  {
   "cell_type": "code",
   "execution_count": 1,
   "id": "1b47a87c-9e26-47c1-84c1-4eb3491752af",
   "metadata": {
    "tags": []
   },
   "outputs": [
    {
     "data": {
      "text/plain": [
       "'2.0.0+cu117'"
      ]
     },
     "execution_count": 1,
     "metadata": {},
     "output_type": "execute_result"
    }
   ],
   "source": [
    "import torch\n",
    "from torch import nn # nn contains all of PyTorch building blocks for neural networks\n",
    "import matplotlib.pyplot as plt\n",
    "\n",
    "# Check PyTorch version\n",
    "torch.__version__"
   ]
  },
  {
   "cell_type": "markdown",
   "id": "0bdf05ff-a61d-4079-8779-49e11797e175",
   "metadata": {
    "tags": []
   },
   "source": [
    "## 1. Data (preparing and loading)\n",
    "\n",
    "Data can be almost anything... in machine learning.\n",
    "\n",
    "* Excel spreadsheet\n",
    "* Images\n",
    "* Videos (YouTube has lots of data...)\n",
    "* Audio like songs and podcasts\n",
    "* DNA\n",
    "* Text\n",
    "\n",
    "Machine learning is a game of two parts:\n",
    "1. Get data into a numerical representation.\n",
    "2. Build a model to learn patterns in that numerical representation.\n",
    "\n",
    "To showcase this, let's create some *known* data using the linear regression formula.\n",
    "\n",
    "We'll use a linear regression formula to make a straight line with *known* **parameters**."
   ]
  },
  {
   "cell_type": "code",
   "execution_count": 69,
   "id": "1307d694-0f9a-4d35-8749-224039e0b313",
   "metadata": {
    "tags": []
   },
   "outputs": [
    {
     "data": {
      "text/plain": [
       "(tensor([[0.0000],\n",
       "         [0.0200],\n",
       "         [0.0400],\n",
       "         [0.0600],\n",
       "         [0.0800],\n",
       "         [0.1000],\n",
       "         [0.1200],\n",
       "         [0.1400],\n",
       "         [0.1600],\n",
       "         [0.1800]]),\n",
       " tensor([[0.3000],\n",
       "         [0.3140],\n",
       "         [0.3280],\n",
       "         [0.3420],\n",
       "         [0.3560],\n",
       "         [0.3700],\n",
       "         [0.3840],\n",
       "         [0.3980],\n",
       "         [0.4120],\n",
       "         [0.4260]]))"
      ]
     },
     "execution_count": 69,
     "metadata": {},
     "output_type": "execute_result"
    }
   ],
   "source": [
    "# Create *known* parameters\n",
    "weight = 0.7\n",
    "bias = 0.3\n",
    "\n",
    "# Create\n",
    "start = 0\n",
    "end = 1\n",
    "step = 0.02\n",
    "X = torch.arange(start, end, step).unsqueeze(dim=1)\n",
    "y = weight * X + bias\n",
    "\n",
    "X[:10], y[:10]"
   ]
  },
  {
   "cell_type": "code",
   "execution_count": 70,
   "id": "de3525ea-7059-4d28-a31f-1d4ee3bdbffe",
   "metadata": {
    "tags": []
   },
   "outputs": [
    {
     "data": {
      "text/plain": [
       "(50, 50)"
      ]
     },
     "execution_count": 70,
     "metadata": {},
     "output_type": "execute_result"
    }
   ],
   "source": [
    "len(X), len(y)"
   ]
  },
  {
   "cell_type": "markdown",
   "id": "d76a8f9d-bab9-4b4d-938a-9b29d858391a",
   "metadata": {
    "tags": []
   },
   "source": [
    "### Splitting data into training and test sets\n",
    "\n",
    "Let's create a training and test set with our data."
   ]
  },
  {
   "cell_type": "code",
   "execution_count": 71,
   "id": "c1897200-7c63-42e2-96ab-62c5171585ec",
   "metadata": {
    "tags": []
   },
   "outputs": [
    {
     "data": {
      "text/plain": [
       "(40, 40, 10, 10)"
      ]
     },
     "execution_count": 71,
     "metadata": {},
     "output_type": "execute_result"
    }
   ],
   "source": [
    "# Create a train/test split\n",
    "train_split = int(0.8 * len(X))\n",
    "X_train, y_train = X[:train_split], y[:train_split]\n",
    "X_test, y_test = X[train_split:], y[train_split:]\n",
    "\n",
    "len(X_train), len(y_train), len(X_test), len(y_test)"
   ]
  },
  {
   "cell_type": "markdown",
   "id": "f7438bd5-11d0-4987-8e70-a5c918ed34a3",
   "metadata": {},
   "source": [
    "How might we better visualize our data?\n",
    "\n",
    "This is where the data explorer's motto comes in!\n",
    "\n",
    "Visualize, vidisdualize, visuzluaize!"
   ]
  },
  {
   "cell_type": "code",
   "execution_count": 7,
   "id": "66896615-8907-44a2-85eb-192ec58b81f5",
   "metadata": {
    "tags": []
   },
   "outputs": [],
   "source": [
    "def plot_predictions(train_data=X_train,\n",
    "                     train_labels=y_train,\n",
    "                     test_data=X_test,\n",
    "                     test_labels=y_test,\n",
    "                     predictions=None):\n",
    "  \"\"\"\n",
    "  Plots training data, test data, and compares predictions.\n",
    "  \"\"\"\n",
    "  \n",
    "  plt.figure(figsize=(10, 7))\n",
    "  \n",
    "  # Plot training data in blue\n",
    "  plt.scatter(train_data, train_labels, c=\"b\", s=4, label=\"Training data\")\n",
    "  \n",
    "  # Plot training data in green\n",
    "  plt.scatter(test_data, test_labels, c=\"g\", s=4, label=\"Testing data\")\n",
    "  \n",
    "  # Are there predicitons?\n",
    "  if predictions is not None:\n",
    "    # Plot the predictions if they exists\n",
    "    plt.scatter(test_data, predictions, c=\"r\", s=4, label=\"Predictions\")\n",
    "    \n",
    "  # Show the legend\n",
    "  plt.legend(prop={\"size\":14});"
   ]
  },
  {
   "cell_type": "code",
   "execution_count": 73,
   "id": "8f8a63e4-4053-4447-a87e-22b71209bbd6",
   "metadata": {
    "tags": []
   },
   "outputs": [
    {
     "data": {
      "image/png": "[encoded data removed]",
      "text/plain": [
       "<Figure size 1000x700 with 1 Axes>"
      ]
     },
     "metadata": {},
     "output_type": "display_data"
    }
   ],
   "source": [
    "plot_predictions();"
   ]
  },
  {
   "cell_type": "markdown",
   "id": "f3e91ec2-0968-4e3d-b3b8-73ab391ec2f1",
   "metadata": {},
   "source": [
    "## 2. Build model\n",
    "\n",
    "Our first PyTorch model!"
   ]
  },
  {
   "cell_type": "code",
   "execution_count": 157,
   "id": "a7103bca-566c-4ae5-80eb-3c46aca3ac77",
   "metadata": {
    "tags": []
   },
   "outputs": [],
   "source": [
    "# Create linear regression model class\n",
    "class LinearRegressionModel(nn.Module): # Almost everything in PyTorch inherits from nn.Module\n",
    "  def __init__(self):\n",
    "    super().__init__()\n",
    "    self.weights = nn.Parameter(torch.randn(1,\n",
    "                                            requires_grad=True,\n",
    "                                            dtype=torch.float))\n",
    "    self.bias = nn.Parameter(torch.randn(1,\n",
    "                                         requires_grad=True,\n",
    "                                         dtype=torch.float))\n",
    "    \n",
    "  # Forward method to define computation in the model\n",
    "  def forward(self, x: torch.Tensor) -> torch.Tensor: # <- \"x\" is the input data\n",
    "    return self.weights * x + self.bias # this is the linear regression formula"
   ]
  },
  {
   "cell_type": "markdown",
   "id": "042ccb65-6963-43c6-ae3e-8ff9dc82c546",
   "metadata": {},
   "source": [
    "### PyTorch model building essentials\n",
    "\n",
    "* torch.nn - contains all of the building blocks for computational graphs (a neural network)\n",
    "* torch.nn.Parameter - what parameters should our model try and learn, often a PyTorch layer from torch.nn will set for us\n",
    "* torch.nn.Module - The base class for all neural network modules, if you subclass it, you should overwrite forward()\n",
    "* torch.optim - where the optimizers in PyTorch live, they help with gradient descent\n",
    "* def forward() - All nn.Module subclasses require you to overwrite forward(), this method defines what happens in the forward computation"
   ]
  },
  {
   "cell_type": "markdown",
   "id": "214f79ae-3185-454c-801e-685252a15951",
   "metadata": {},
   "source": [
    "### Checking the contents of our PyTorch model\n",
    "\n",
    "Now we've created a model, let's see what's inside.\n",
    "\n",
    "So we can check out our model parameters or what's inside our model using .parameters()."
   ]
  },
  {
   "cell_type": "code",
   "execution_count": 158,
   "id": "7c26df05-1405-4cd4-933a-39424920d90d",
   "metadata": {
    "tags": []
   },
   "outputs": [
    {
     "data": {
      "text/plain": [
       "[Parameter containing:\n",
       " tensor([0.3367], requires_grad=True),\n",
       " Parameter containing:\n",
       " tensor([0.1288], requires_grad=True)]"
      ]
     },
     "execution_count": 158,
     "metadata": {},
     "output_type": "execute_result"
    }
   ],
   "source": [
    "# Create a random seed\n",
    "torch.manual_seed(42)\n",
    "\n",
    "# Create an instance of the model (this is a subclass of nn.Module)\n",
    "\n",
    "model_0 = LinearRegressionModel()\n",
    "\n",
    "# Check out the parameters\n",
    "list(model_0.parameters())"
   ]
  },
  {
   "cell_type": "code",
   "execution_count": 159,
   "id": "9b5a6f91-0977-42d6-9f78-ec862c3362ea",
   "metadata": {
    "tags": []
   },
   "outputs": [
    {
     "data": {
      "text/plain": [
       "OrderedDict([('weights', tensor([0.3367])), ('bias', tensor([0.1288]))])"
      ]
     },
     "execution_count": 159,
     "metadata": {},
     "output_type": "execute_result"
    }
   ],
   "source": [
    "# List named parameters\n",
    "model_0.state_dict()"
   ]
  },
  {
   "cell_type": "markdown",
   "id": "12989441-e2a4-4996-9054-b238f9ebc363",
   "metadata": {
    "tags": []
   },
   "source": [
    "### Making predictions using `torch.inference_mode()`\n",
    "\n",
    "To check our model's predictive power, let's see how well it predicts `y_test` based on `X_test`.\n",
    "\n",
    "When we pass data through our model, it's going to run it through the `forward()` method"
   ]
  },
  {
   "cell_type": "code",
   "execution_count": 160,
   "id": "bddcfbdb-8f92-4a1a-9ece-1027e5d79f9f",
   "metadata": {
    "tags": []
   },
   "outputs": [
    {
     "data": {
      "text/plain": [
       "tensor([[0.3982],\n",
       "        [0.4049],\n",
       "        [0.4116],\n",
       "        [0.4184],\n",
       "        [0.4251],\n",
       "        [0.4318],\n",
       "        [0.4386],\n",
       "        [0.4453],\n",
       "        [0.4520],\n",
       "        [0.4588]], grad_fn=<AddBackward0>)"
      ]
     },
     "execution_count": 160,
     "metadata": {},
     "output_type": "execute_result"
    }
   ],
   "source": [
    "y_preds = model_0(X_test)\n",
    "y_preds"
   ]
  },
  {
   "cell_type": "code",
   "execution_count": 161,
   "id": "ffca2d2f-10b7-4076-a815-338e5eacda97",
   "metadata": {
    "tags": []
   },
   "outputs": [
    {
     "data": {
      "text/plain": [
       "tensor([[0.3982],\n",
       "        [0.4049],\n",
       "        [0.4116],\n",
       "        [0.4184],\n",
       "        [0.4251],\n",
       "        [0.4318],\n",
       "        [0.4386],\n",
       "        [0.4453],\n",
       "        [0.4520],\n",
       "        [0.4588]])"
      ]
     },
     "execution_count": 161,
     "metadata": {},
     "output_type": "execute_result"
    }
   ],
   "source": [
    "# Make predictions with model\n",
    "with torch.inference_mode():\n",
    "  y_preds = model_0(X_test)\n",
    "  \n",
    "# you can also do something similar wtih torch.no_grad(), however, torch.inference_mode() is preferred\n",
    "#with torch.no_grad():\n",
    "  #y_preds = model_0(X_test)\n",
    "\n",
    "y_preds"
   ]
  },
  {
   "cell_type": "code",
   "execution_count": 162,
   "id": "143dbf1f-7685-49e8-ad2d-b69189284a9e",
   "metadata": {
    "tags": []
   },
   "outputs": [
    {
     "data": {
      "text/plain": [
       "tensor([[0.8600],\n",
       "        [0.8740],\n",
       "        [0.8880],\n",
       "        [0.9020],\n",
       "        [0.9160],\n",
       "        [0.9300],\n",
       "        [0.9440],\n",
       "        [0.9580],\n",
       "        [0.9720],\n",
       "        [0.9860]])"
      ]
     },
     "execution_count": 162,
     "metadata": {},
     "output_type": "execute_result"
    }
   ],
   "source": [
    "y_test"
   ]
  },
  {
   "cell_type": "code",
   "execution_count": 163,
   "id": "e27f4f1f-71ea-4702-98bf-d10fca5255b3",
   "metadata": {
    "tags": []
   },
   "outputs": [
    {
     "data": {
      "image/png": "[encoded data removed]",
      "text/plain": [
       "<Figure size 1000x700 with 1 Axes>"
      ]
     },
     "metadata": {},
     "output_type": "display_data"
    }
   ],
   "source": [
    "plot_predictions(predictions=y_preds)"
   ]
  },
  {
   "cell_type": "markdown",
   "id": "415e4b80-63d9-4c1c-8f49-6098d824ed8f",
   "metadata": {},
   "source": [
    "## 3. Train model\n",
    "\n",
    "The whole idea of training is for a model to move from some *unknown* parameters to some *known* parameters.\n",
    "\n",
    "In other words, from a poor representation of the data to a better representation of the data.\n",
    "\n",
    "One way to measure how poor or how wrong a model's predictions are is to use a loss function.\n",
    "\n",
    "* Note: Loss function may also be called cost function or critierion.\n",
    "\n",
    "Things we need to train:\n",
    "\n",
    "* **Loss function:** A function to measure how wrong a model's predictions are to the ideal outputs, lower is better. \n",
    "* **Optimizer:** Takes into account the loss of the model and adjusts the model's parameters (e.g. weight and bias in our case) to improve the loss function.\n",
    "\n",
    "And specifically for PyTorch, we need:\n",
    "* a training loop\n",
    "* a testing loop"
   ]
  },
  {
   "cell_type": "code",
   "execution_count": 164,
   "id": "78cebe27-8571-41e3-b4b1-8a4d20e0a47f",
   "metadata": {
    "tags": []
   },
   "outputs": [
    {
     "data": {
      "text/plain": [
       "[Parameter containing:\n",
       " tensor([0.3367], requires_grad=True),\n",
       " Parameter containing:\n",
       " tensor([0.1288], requires_grad=True)]"
      ]
     },
     "execution_count": 164,
     "metadata": {},
     "output_type": "execute_result"
    }
   ],
   "source": [
    "list(model_0.parameters())"
   ]
  },
  {
   "cell_type": "code",
   "execution_count": 165,
   "id": "1b70feca-7893-463c-9f0f-a505d3cc3304",
   "metadata": {
    "tags": []
   },
   "outputs": [
    {
     "data": {
      "text/plain": [
       "OrderedDict([('weights', tensor([0.3367])), ('bias', tensor([0.1288]))])"
      ]
     },
     "execution_count": 165,
     "metadata": {},
     "output_type": "execute_result"
    }
   ],
   "source": [
    "# Check out our model's parameters (a parameter is a value that the model sets itself)\n",
    "model_0.state_dict()"
   ]
  },
  {
   "cell_type": "code",
   "execution_count": 166,
   "id": "043c531d-2d38-4c1c-bc81-90837fd7421a",
   "metadata": {
    "tags": []
   },
   "outputs": [],
   "source": [
    "# Setup a loss function\n",
    "loss_fn = nn.L1Loss()\n",
    "\n",
    "# Setup an optimizer (stochastic gradient descent)\n",
    "optimizer = torch.optim.SGD(params=model_0.parameters(),\n",
    "                            lr=0.01) # hyperparameter, a parameter we set"
   ]
  },
  {
   "cell_type": "markdown",
   "id": "8b149fa8-a615-4a33-9a25-0a1c6884432e",
   "metadata": {
    "tags": []
   },
   "source": [
    "### Building a training loop and a testing loop in PyTorch\n",
    "\n",
    "A couple of things we need in a training loop:\n",
    "\n",
    "0. Loop through the data\n",
    "1. Forward pass (this involves data moving through a model's `forward()` functions) to make predictions - also called forward propagation\n",
    "2. Calculate the loss (compare forward pass predictions to ground truth labels)\n",
    "3. Optimizer zero grad\n",
    "4. Loss backward - move backwards through the network to calculate the gradients of each of the parameters of our model with respect to the loss (**backpropagation**)\n",
    "5. Optimizer step - use the optimizer to adjust our model's parameters to try and improve the loss (**gradient descent**)\n"
   ]
  },
  {
   "cell_type": "code",
   "execution_count": 167,
   "id": "4b037be0-b74b-4592-9387-6f1763bdba2b",
   "metadata": {
    "tags": []
   },
   "outputs": [
    {
     "name": "stdout",
     "output_type": "stream",
     "text": [
      "Epoch: 0 | Loss: 0.31288138031959534 | Test loss: 0.48106518387794495\n",
      "OrderedDict([('weights', tensor([0.3406])), ('bias', tensor([0.1388]))])\n",
      "Epoch: 10 | Loss: 0.1976713240146637 | Test loss: 0.3463551998138428\n",
      "OrderedDict([('weights', tensor([0.3796])), ('bias', tensor([0.2388]))])\n",
      "Epoch: 20 | Loss: 0.08908725529909134 | Test loss: 0.21729660034179688\n",
      "OrderedDict([('weights', tensor([0.4184])), ('bias', tensor([0.3333]))])\n",
      "Epoch: 30 | Loss: 0.053148526698350906 | Test loss: 0.14464017748832703\n",
      "OrderedDict([('weights', tensor([0.4512])), ('bias', tensor([0.3768]))])\n",
      "Epoch: 40 | Loss: 0.04543796554207802 | Test loss: 0.11360953003168106\n",
      "OrderedDict([('weights', tensor([0.4748])), ('bias', tensor([0.3868]))])\n",
      "Epoch: 50 | Loss: 0.04167863354086876 | Test loss: 0.09919948130846024\n",
      "OrderedDict([('weights', tensor([0.4938])), ('bias', tensor([0.3843]))])\n",
      "Epoch: 60 | Loss: 0.03818932920694351 | Test loss: 0.08886633068323135\n",
      "OrderedDict([('weights', tensor([0.5116])), ('bias', tensor([0.3788]))])\n",
      "Epoch: 70 | Loss: 0.03476089984178543 | Test loss: 0.0805937647819519\n",
      "OrderedDict([('weights', tensor([0.5288])), ('bias', tensor([0.3718]))])\n",
      "Epoch: 80 | Loss: 0.03132382780313492 | Test loss: 0.07232122868299484\n",
      "OrderedDict([('weights', tensor([0.5459])), ('bias', tensor([0.3648]))])\n",
      "Epoch: 90 | Loss: 0.02788739837706089 | Test loss: 0.06473556160926819\n",
      "OrderedDict([('weights', tensor([0.5629])), ('bias', tensor([0.3573]))])\n",
      "Epoch: 100 | Loss: 0.024458957836031914 | Test loss: 0.05646304413676262\n",
      "OrderedDict([('weights', tensor([0.5800])), ('bias', tensor([0.3503]))])\n",
      "Epoch: 110 | Loss: 0.021020207554101944 | Test loss: 0.04819049686193466\n",
      "OrderedDict([('weights', tensor([0.5972])), ('bias', tensor([0.3433]))])\n",
      "Epoch: 120 | Loss: 0.01758546568453312 | Test loss: 0.04060482233762741\n",
      "OrderedDict([('weights', tensor([0.6141])), ('bias', tensor([0.3358]))])\n",
      "Epoch: 130 | Loss: 0.014155393466353416 | Test loss: 0.03233227878808975\n",
      "OrderedDict([('weights', tensor([0.6313])), ('bias', tensor([0.3288]))])\n",
      "Epoch: 140 | Loss: 0.010716589167714119 | Test loss: 0.024059748277068138\n",
      "OrderedDict([('weights', tensor([0.6485])), ('bias', tensor([0.3218]))])\n",
      "Epoch: 150 | Loss: 0.0072835334576666355 | Test loss: 0.016474086791276932\n",
      "OrderedDict([('weights', tensor([0.6654])), ('bias', tensor([0.3143]))])\n",
      "Epoch: 160 | Loss: 0.0038517764769494534 | Test loss: 0.008201557211577892\n",
      "OrderedDict([('weights', tensor([0.6826])), ('bias', tensor([0.3073]))])\n",
      "Epoch: 170 | Loss: 0.008932482451200485 | Test loss: 0.005023092031478882\n",
      "OrderedDict([('weights', tensor([0.6951])), ('bias', tensor([0.2993]))])\n",
      "Epoch: 180 | Loss: 0.008932482451200485 | Test loss: 0.005023092031478882\n",
      "OrderedDict([('weights', tensor([0.6951])), ('bias', tensor([0.2993]))])\n",
      "Epoch: 190 | Loss: 0.008932482451200485 | Test loss: 0.005023092031478882\n",
      "OrderedDict([('weights', tensor([0.6951])), ('bias', tensor([0.2993]))])\n"
     ]
    }
   ],
   "source": [
    "torch.manual_seed(42)\n",
    "\n",
    "# An epoch is one loop through the data... (this is a hyperparameter)\n",
    "epochs = 200\n",
    "\n",
    "# Track different values\n",
    "epoch_count = []\n",
    "loss_values = []\n",
    "test_loss_values = [] \n",
    "\n",
    "### Training\n",
    "# 0. Loop through the data\n",
    "for epoch in range(epochs):\n",
    "  # Set the model to training mode\n",
    "  model_0.train() # train mode in PyTorch sets all parameters that require gradients to require gradients\n",
    "  \n",
    "  # 1. Forward pass\n",
    "  y_pred = model_0(X_train)\n",
    "  \n",
    "  # 2. Calculate the loss\n",
    "  loss = loss_fn(y_pred, y_train)\n",
    "  \n",
    "  # 3. Optimizer zero grad\n",
    "  optimizer.zero_grad()\n",
    "  \n",
    "  # 4. Perform backpropagation on the loss with respect to the parameters of the model\n",
    "  loss.backward()\n",
    "  \n",
    "  # 5. Step the optimizer (perform gradient descent)\n",
    "  optimizer.step() # by default, how the optimizer changes will accumulate through the loop so we have to zero them above in step 3 for the next iteration\n",
    "\n",
    "  \n",
    "  ### Testing\n",
    "  model_0.eval() # turns off different settings not needed for eval (dropout, norm)\n",
    "  with torch.inference_mode(): # turns off gradient tracking\n",
    "    # 1. Do the forward pass\n",
    "    test_pred = model_0(X_test)\n",
    "    \n",
    "    # 2. Calculate the loss\n",
    "    test_loss = loss_fun(test_pred, y_test)\n",
    "  \n",
    "  # Print what's happening\n",
    "  if epoch % 10 == 0:\n",
    "    epoch_count.append(epoch)\n",
    "    loss_values.append(loss)\n",
    "    test_loss_values.append(test_loss)\n",
    "    \n",
    "    print(f\"Epoch: {epoch} | Loss: {loss} | Test loss: {test_loss}\")\n",
    "    print(model_0.state_dict())\n",
    "  "
   ]
  },
  {
   "cell_type": "code",
   "execution_count": 177,
   "id": "5fa22b57-81b6-4da5-984f-ef45d926084b",
   "metadata": {
    "tags": []
   },
   "outputs": [],
   "source": [
    "import numpy as np"
   ]
  },
  {
   "cell_type": "code",
   "execution_count": 180,
   "id": "fecb7c92-45cc-4531-be46-3bf9310f9ab9",
   "metadata": {
    "tags": []
   },
   "outputs": [
    {
     "data": {
      "image/png": "[encoded data removed]",
      "text/plain": [
       "<Figure size 640x480 with 1 Axes>"
      ]
     },
     "metadata": {},
     "output_type": "display_data"
    }
   ],
   "source": [
    "# Plot the loss curves\n",
    "plt.plot(epoch_count, np.array(torch.tensor(loss_values).numpy()), label=\"Train loss\")\n",
    "plt.plot(epoch_count, test_loss_values, label=\"Test loss\")\n",
    "plt.title(\"Training and test loss curves\")\n",
    "plt.ylabel(\"Loss\")\n",
    "plt.xlabel(\"Epochs\")\n",
    "plt.legend();"
   ]
  },
  {
   "cell_type": "code",
   "execution_count": 168,
   "id": "3284ca99-a4ea-4225-a510-b72b13eef01e",
   "metadata": {
    "tags": []
   },
   "outputs": [],
   "source": [
    "with torch.inference_mode():\n",
    "  y_preds_new = model_0(X_test)"
   ]
  },
  {
   "cell_type": "code",
   "execution_count": 169,
   "id": "2144be3e-0c6b-4731-8844-f0f32e67b437",
   "metadata": {
    "tags": []
   },
   "outputs": [
    {
     "data": {
      "text/plain": [
       "OrderedDict([('weights', tensor([0.6990])), ('bias', tensor([0.3093]))])"
      ]
     },
     "execution_count": 169,
     "metadata": {},
     "output_type": "execute_result"
    }
   ],
   "source": [
    "model_0.state_dict()"
   ]
  },
  {
   "cell_type": "code",
   "execution_count": 170,
   "id": "7d61eaf2-cab6-4f21-99a7-a3a2950c3372",
   "metadata": {
    "tags": []
   },
   "outputs": [
    {
     "data": {
      "image/png": "[encoded data removed]",
      "text/plain": [
       "<Figure size 1000x700 with 1 Axes>"
      ]
     },
     "metadata": {},
     "output_type": "display_data"
    }
   ],
   "source": [
    "plot_predictions(predictions=y_preds)"
   ]
  },
  {
   "cell_type": "code",
   "execution_count": 171,
   "id": "55cd93b5-1e8a-485b-9bfe-f74ec3788f69",
   "metadata": {
    "tags": []
   },
   "outputs": [
    {
     "data": {
      "image/png": "[encoded data removed]",
      "text/plain": [
       "<Figure size 1000x700 with 1 Axes>"
      ]
     },
     "metadata": {},
     "output_type": "display_data"
    }
   ],
   "source": [
    "plot_predictions(predictions=y_preds_new)"
   ]
  },
  {
   "cell_type": "markdown",
   "id": "a25fbaa8-f027-46e1-8a00-e27b4170e858",
   "metadata": {},
   "source": [
    "## Saving a model in PyTorch\n",
    "\n",
    "There are three main methods you should know about for saving and loading models in PyTorch.\n",
    "\n",
    "1. `torch.save()` - allows you to save PyTorch objects in pickle format\n",
    "2. `torch.load()` - allows you to load a saved PyTorch object\n",
    "3. `torch.nn.Module.load_state_dict()` - This allows  you to load a model's saved state dictionary"
   ]
  },
  {
   "cell_type": "code",
   "execution_count": 184,
   "id": "c0b665cc-ef90-4e9d-9476-67b0daf0a8aa",
   "metadata": {
    "tags": []
   },
   "outputs": [
    {
     "name": "stdout",
     "output_type": "stream",
     "text": [
      "Saving model to: models/01_pytorch_workflow_model_0.pth\n"
     ]
    }
   ],
   "source": [
    "# Saving our PyTorch model\n",
    "from pathlib import Path\n",
    "\n",
    "# 1. Create models directory\n",
    "MODEL_PATH = Path(\"models\")\n",
    "MODEL_PATH.mkdir(parents=True, exist_ok=True)\n",
    "\n",
    "# 2. Create model save path\n",
    "MODEL_NAME = \"01_pytorch_workflow_model_0.pth\"\n",
    "MODEL_SAVE_PATH = MODEL_PATH / MODEL_NAME\n",
    "\n",
    "# 3. Save the model.state_dict()\n",
    "print(f\"Saving model to: {MODEL_SAVE_PATH}\")\n",
    "torch.save(obj=model_0.state_dict(), \n",
    "           f=MODEL_SAVE_PATH)"
   ]
  },
  {
   "cell_type": "code",
   "execution_count": 185,
   "id": "a5d8c3a1-638b-48dd-9da3-296cbb1eb2cf",
   "metadata": {
    "tags": []
   },
   "outputs": [
    {
     "name": "stdout",
     "output_type": "stream",
     "text": [
      "total 4\n",
      "-rw-r--r-- 1 anujg anujg 1207 Jun  1 10:46 01_pytorch_workflow_model_0.pth\n"
     ]
    }
   ],
   "source": [
    "!ls -l models"
   ]
  },
  {
   "cell_type": "markdown",
   "id": "b8c2f8e0-b4d5-42cf-945e-c98a9af87d7c",
   "metadata": {},
   "source": [
    "## Loading a PyTorch model\n",
    "\n",
    "Since we saved our models `state_dict()` rather than the entire model, we'll create a new instance of our model class and load the saved `state_dict()` into that."
   ]
  },
  {
   "cell_type": "code",
   "execution_count": 186,
   "id": "4b64f214-441f-4009-b7fc-12adc453a521",
   "metadata": {
    "tags": []
   },
   "outputs": [
    {
     "data": {
      "text/plain": [
       "OrderedDict([('weights', tensor([0.6990])), ('bias', tensor([0.3093]))])"
      ]
     },
     "execution_count": 186,
     "metadata": {},
     "output_type": "execute_result"
    }
   ],
   "source": [
    "model_0.state_dict()"
   ]
  },
  {
   "cell_type": "code",
   "execution_count": 195,
   "id": "e5d2fa5e-558f-470c-ad39-a4f5b8e186c1",
   "metadata": {
    "tags": []
   },
   "outputs": [
    {
     "data": {
      "text/plain": [
       "<All keys matched successfully>"
      ]
     },
     "execution_count": 195,
     "metadata": {},
     "output_type": "execute_result"
    }
   ],
   "source": [
    "# To load in a saved state_dict, we have to instantiate a new instance of our model class\n",
    "loaded_model_0 = LinearRegressionModel()\n",
    "\n",
    "# Load the saved state_dict of model_0, this will update the new instance with updated parameters\n",
    "loaded_model_0.load_state_dict(torch.load(f=MODEL_SAVE_PATH))"
   ]
  },
  {
   "cell_type": "code",
   "execution_count": 196,
   "id": "374cb125-2fee-4ec6-9a35-806498235809",
   "metadata": {
    "tags": []
   },
   "outputs": [
    {
     "data": {
      "text/plain": [
       "OrderedDict([('weights', tensor([0.6990])), ('bias', tensor([0.3093]))])"
      ]
     },
     "execution_count": 196,
     "metadata": {},
     "output_type": "execute_result"
    }
   ],
   "source": [
    "loaded_model_0.state_dict()"
   ]
  },
  {
   "cell_type": "code",
   "execution_count": 197,
   "id": "4b8a4d88-eb09-4461-b0ed-c70758a5d6de",
   "metadata": {
    "tags": []
   },
   "outputs": [
    {
     "data": {
      "text/plain": [
       "tensor([[0.8685],\n",
       "        [0.8825],\n",
       "        [0.8965],\n",
       "        [0.9105],\n",
       "        [0.9245],\n",
       "        [0.9384],\n",
       "        [0.9524],\n",
       "        [0.9664],\n",
       "        [0.9804],\n",
       "        [0.9944]])"
      ]
     },
     "execution_count": 197,
     "metadata": {},
     "output_type": "execute_result"
    }
   ],
   "source": [
    "# Make some predictions with our loaded model\n",
    "loaded_model_0.eval()\n",
    "with torch.inference_mode():\n",
    "  loaded_model_preds = loaded_model_0(X_test)\n",
    "  \n",
    "loaded_model_preds"
   ]
  },
  {
   "cell_type": "code",
   "execution_count": 200,
   "id": "9006b139-e65d-4788-8142-d86711dfb920",
   "metadata": {
    "tags": []
   },
   "outputs": [
    {
     "data": {
      "text/plain": [
       "tensor([[0.8685],\n",
       "        [0.8825],\n",
       "        [0.8965],\n",
       "        [0.9105],\n",
       "        [0.9245],\n",
       "        [0.9384],\n",
       "        [0.9524],\n",
       "        [0.9664],\n",
       "        [0.9804],\n",
       "        [0.9944]])"
      ]
     },
     "execution_count": 200,
     "metadata": {},
     "output_type": "execute_result"
    }
   ],
   "source": [
    "# Make some model preds\n",
    "model_0.eval()\n",
    "with torch.inference_mode():\n",
    "  y_preds = model_0(X_test)\n",
    "  \n",
    "y_preds"
   ]
  },
  {
   "cell_type": "code",
   "execution_count": 201,
   "id": "2c598cf7-d3b4-4c78-90e3-e7576aa914d5",
   "metadata": {
    "tags": []
   },
   "outputs": [
    {
     "data": {
      "text/plain": [
       "tensor([[True],\n",
       "        [True],\n",
       "        [True],\n",
       "        [True],\n",
       "        [True],\n",
       "        [True],\n",
       "        [True],\n",
       "        [True],\n",
       "        [True],\n",
       "        [True]])"
      ]
     },
     "execution_count": 201,
     "metadata": {},
     "output_type": "execute_result"
    }
   ],
   "source": [
    "# Compare loaded model preds with original model preds\n",
    "y_preds == loaded_model_preds"
   ]
  },
  {
   "cell_type": "markdown",
   "id": "0733590a-635e-40a0-a817-84adeb5ad5d9",
   "metadata": {
    "tags": []
   },
   "source": [
    "## 6. Putting it all together"
   ]
  },
  {
   "cell_type": "code",
   "execution_count": 204,
   "id": "cfbee8d7-de8d-4a44-8e41-5a095278b47c",
   "metadata": {
    "tags": []
   },
   "outputs": [
    {
     "data": {
      "text/plain": [
       "'2.0.0+cu117'"
      ]
     },
     "execution_count": 204,
     "metadata": {},
     "output_type": "execute_result"
    }
   ],
   "source": [
    "# Import PyTorch and matplotlib\n",
    "import torch\n",
    "from torch import nn\n",
    "import matplotlib.pyplot as plt\n",
    "\n",
    "torch.__version__"
   ]
  },
  {
   "cell_type": "markdown",
   "id": "95811774-6906-4089-8271-ddd149bdc3e2",
   "metadata": {},
   "source": [
    "Create device-agnostic code.\n",
    "\n",
    "This means if we've got access to a GPU, our code will use it, else CPU."
   ]
  },
  {
   "cell_type": "code",
   "execution_count": 205,
   "id": "a20a58ee-ab29-4ef2-a663-86e112ed8558",
   "metadata": {
    "tags": []
   },
   "outputs": [
    {
     "name": "stdout",
     "output_type": "stream",
     "text": [
      "Using device: cuda\n"
     ]
    }
   ],
   "source": [
    "# Setup device agnostic code\n",
    "device = \"cuda\" if torch.cuda.is_available() else \"cpu\"\n",
    "print(f\"Using device: {device}\")"
   ]
  },
  {
   "cell_type": "markdown",
   "id": "b0c0dabf-a942-4ef0-9227-19cd918b1e86",
   "metadata": {
    "tags": []
   },
   "source": [
    "#### 6.1 Data"
   ]
  },
  {
   "cell_type": "code",
   "execution_count": 207,
   "id": "3d5fe0a7-c3be-47d2-8132-ba264be164f7",
   "metadata": {
    "tags": []
   },
   "outputs": [
    {
     "data": {
      "text/plain": [
       "(tensor([[0.0000],\n",
       "         [0.0200],\n",
       "         [0.0400],\n",
       "         [0.0600],\n",
       "         [0.0800],\n",
       "         [0.1000],\n",
       "         [0.1200],\n",
       "         [0.1400],\n",
       "         [0.1600],\n",
       "         [0.1800]]),\n",
       " tensor([[0.3000],\n",
       "         [0.3140],\n",
       "         [0.3280],\n",
       "         [0.3420],\n",
       "         [0.3560],\n",
       "         [0.3700],\n",
       "         [0.3840],\n",
       "         [0.3980],\n",
       "         [0.4120],\n",
       "         [0.4260]]))"
      ]
     },
     "execution_count": 207,
     "metadata": {},
     "output_type": "execute_result"
    }
   ],
   "source": [
    "# Create some data using linear regression formula of y = weight * features + bias\n",
    "weight = 0.7\n",
    "bias = 0.3\n",
    "\n",
    "# Create range of values\n",
    "start = 0 \n",
    "end = 1\n",
    "step = 0.02\n",
    "\n",
    "# Create X and y (features and labels)\n",
    "X = torch.arange(start, end, step).unsqueeze(dim=1)\n",
    "y = weight * X + bias\n",
    "X[:10], y[:10]"
   ]
  },
  {
   "cell_type": "code",
   "execution_count": 209,
   "id": "ba6bfb34-fff5-4423-8ea2-c4c44f8d83b3",
   "metadata": {
    "tags": []
   },
   "outputs": [
    {
     "data": {
      "text/plain": [
       "(40, 10, 40, 10)"
      ]
     },
     "execution_count": 209,
     "metadata": {},
     "output_type": "execute_result"
    }
   ],
   "source": [
    "# split data\n",
    "train_split = int(0.8 * len(X))\n",
    "X_train, y_train = X[:train_split], y[:train_split]\n",
    "X_test, y_test = X[train_split:], y[train_split:]\n",
    "\n",
    "len(X_train), len(X_test), len(y_train), len(y_test),"
   ]
  },
  {
   "cell_type": "code",
   "execution_count": 210,
   "id": "a94278d1-a9ad-4a7c-a198-b6d131addc89",
   "metadata": {
    "tags": []
   },
   "outputs": [
    {
     "data": {
      "image/png": "[encoded data removed]",
      "text/plain": [
       "<Figure size 1000x700 with 1 Axes>"
      ]
     },
     "metadata": {},
     "output_type": "display_data"
    }
   ],
   "source": [
    "plot_predictions(X_train, y_train, X_test, y_test)"
   ]
  },
  {
   "cell_type": "markdown",
   "id": "897ea621-ba98-4538-bf91-6ecd797db53c",
   "metadata": {},
   "source": [
    "## 6.2 Building a PyTorch linear model"
   ]
  },
  {
   "cell_type": "code",
   "execution_count": 213,
   "id": "2ff350c8-f0ce-4873-8a04-322c7d130feb",
   "metadata": {
    "tags": []
   },
   "outputs": [
    {
     "data": {
      "text/plain": [
       "(LinearRegressionModelV2(\n",
       "   (linear_layer): Linear(in_features=1, out_features=1, bias=True)\n",
       " ),\n",
       " OrderedDict([('linear_layer.weight', tensor([[0.7645]])),\n",
       "              ('linear_layer.bias', tensor([0.8300]))]))"
      ]
     },
     "execution_count": 213,
     "metadata": {},
     "output_type": "execute_result"
    }
   ],
   "source": [
    "# Create a linear model by subclassing nn.Module\n",
    "class LinearRegressionModelV2(nn.Module):\n",
    "  def __init__(self):\n",
    "    super().__init__()\n",
    "    # Use nn.Linear() for creating the model parameters / also called linear transform, probing layer, dense layer, fully connected\n",
    "    self.linear_layer = nn.Linear(in_features=1,\n",
    "                                  out_features=1)\n",
    "  def forward(self, x: torch.Tensor) -> torch.Tensor:\n",
    "    return self.linear_layer(x)\n",
    "  \n",
    "# set the manual seed\n",
    "torch.manual_seed(42)\n",
    "model_1 = LinearRegressionModelV2()\n",
    "model_1, model_1.state_dict()"
   ]
  },
  {
   "cell_type": "code",
   "execution_count": 215,
   "id": "8a35e4d9-dd58-4c00-8ac1-215dd5f97dd6",
   "metadata": {
    "tags": []
   },
   "outputs": [
    {
     "data": {
      "text/plain": [
       "device(type='cpu')"
      ]
     },
     "execution_count": 215,
     "metadata": {},
     "output_type": "execute_result"
    }
   ],
   "source": [
    "# Check the model current device\n",
    "next(model_1.parameters()).device"
   ]
  },
  {
   "cell_type": "code",
   "execution_count": 217,
   "id": "e384e431-c42b-4e8a-8b90-4d10f66376a0",
   "metadata": {
    "tags": []
   },
   "outputs": [
    {
     "data": {
      "text/plain": [
       "device(type='cuda', index=0)"
      ]
     },
     "execution_count": 217,
     "metadata": {},
     "output_type": "execute_result"
    }
   ],
   "source": [
    "# Set the model to use the target device\n",
    "model_1.to(device)\n",
    "next(model_1.parameters()).device"
   ]
  },
  {
   "cell_type": "markdown",
   "id": "037cefb9-de6a-43a6-b3f6-93acb5afe1d8",
   "metadata": {},
   "source": [
    "### 6.3 Training\n",
    "\n",
    "For training, we need:\n",
    "* Loss function\n",
    "* Optimizer\n",
    "* Training loop\n",
    "* Testing loop"
   ]
  },
  {
   "cell_type": "code",
   "execution_count": 222,
   "id": "79d86c60-ca4d-4140-9aae-7ae7c1c76823",
   "metadata": {
    "tags": []
   },
   "outputs": [],
   "source": [
    "# Setup loss function\n",
    "loss_fn = nn.L1Loss() # same as MAE\n",
    "\n",
    "# Setup our optimizer\n",
    "optimizer = torch.optim.SGD(params=model_1.parameters(), \n",
    "                            lr=0.01)"
   ]
  },
  {
   "cell_type": "code",
   "execution_count": 223,
   "id": "bc6e4af9-5e2c-47f4-b057-d5778b658679",
   "metadata": {
    "tags": []
   },
   "outputs": [
    {
     "name": "stdout",
     "output_type": "stream",
     "text": [
      "Epoch: 0 | Loss: 0.5551779866218567 | Test loss: 0.008447891101241112\n",
      "Epoch: 10 | Loss: 0.439968079328537 | Test loss: 0.008447891101241112\n",
      "Epoch: 20 | Loss: 0.3247582018375397 | Test loss: 0.008447891101241112\n",
      "Epoch: 30 | Loss: 0.20954833924770355 | Test loss: 0.008447891101241112\n",
      "Epoch: 40 | Loss: 0.09433845430612564 | Test loss: 0.008447891101241112\n",
      "Epoch: 50 | Loss: 0.023886388167738914 | Test loss: 0.008447891101241112\n",
      "Epoch: 60 | Loss: 0.019956795498728752 | Test loss: 0.008447891101241112\n",
      "Epoch: 70 | Loss: 0.016517987474799156 | Test loss: 0.008447891101241112\n",
      "Epoch: 80 | Loss: 0.013089174404740334 | Test loss: 0.008447891101241112\n",
      "Epoch: 90 | Loss: 0.009653178043663502 | Test loss: 0.008447891101241112\n",
      "Epoch: 100 | Loss: 0.006215683650225401 | Test loss: 0.008447891101241112\n",
      "Epoch: 110 | Loss: 0.00278724217787385 | Test loss: 0.008447891101241112\n",
      "Epoch: 120 | Loss: 0.0012645035749301314 | Test loss: 0.008447891101241112\n",
      "Epoch: 130 | Loss: 0.0012645035749301314 | Test loss: 0.008447891101241112\n",
      "Epoch: 140 | Loss: 0.0012645035749301314 | Test loss: 0.008447891101241112\n",
      "Epoch: 150 | Loss: 0.0012645035749301314 | Test loss: 0.008447891101241112\n",
      "Epoch: 160 | Loss: 0.0012645035749301314 | Test loss: 0.008447891101241112\n",
      "Epoch: 170 | Loss: 0.0012645035749301314 | Test loss: 0.008447891101241112\n",
      "Epoch: 180 | Loss: 0.0012645035749301314 | Test loss: 0.008447891101241112\n",
      "Epoch: 190 | Loss: 0.0012645035749301314 | Test loss: 0.008447891101241112\n"
     ]
    }
   ],
   "source": [
    "# Let's write a training loop\n",
    "torch.manual_seed(42)\n",
    "\n",
    "epochs = 200\n",
    "\n",
    "# Put data on target device (device-agnostic code)\n",
    "X_train = X_train.to(device)\n",
    "y_train = y_train.to(device)\n",
    "X_test = X_test.to(device)\n",
    "y_test = y_test.to(device)\n",
    "\n",
    "for epoch in range(epochs):\n",
    "  model_1.train()\n",
    "  \n",
    "  # 1. Forward pass\n",
    "  y_pred = model_1(X_train)\n",
    "  \n",
    "  # 2. Calculate the loss\n",
    "  loss = loss_fn(y_pred, y_train)\n",
    "  \n",
    "  # 3. Optimizer zero grad\n",
    "  optimizer.zero_grad()\n",
    "  \n",
    "  # 4. Perform backpropagation\n",
    "  loss.backward()\n",
    "  \n",
    "  # 5. Optimizer step\n",
    "  optimizer.step()\n",
    "  \n",
    "  ### Testing\n",
    "  model_1.eval()\n",
    "  with torch.inference_mode():\n",
    "    test_pred = model_1(X_test)\n",
    "    \n",
    "    test_loss = loss_fn(test_pred, y_test)\n",
    "    \n",
    "  # Print out what's happening\n",
    "  if epoch % 10 == 0:\n",
    "    print(f\"Epoch: {epoch} | Loss: {loss} | Test loss: {test_loss}\")"
   ]
  },
  {
   "cell_type": "code",
   "execution_count": 224,
   "id": "f17a3b24-0e61-4476-b671-d642eed6e24b",
   "metadata": {
    "tags": []
   },
   "outputs": [
    {
     "data": {
      "text/plain": [
       "OrderedDict([('linear_layer.weight', tensor([[0.6968]], device='cuda:0')),\n",
       "             ('linear_layer.bias', tensor([0.3025], device='cuda:0'))])"
      ]
     },
     "execution_count": 224,
     "metadata": {},
     "output_type": "execute_result"
    }
   ],
   "source": [
    "model_1.state_dict()"
   ]
  },
  {
   "cell_type": "markdown",
   "id": "fe23527b-0586-4cfc-8355-d0803338f204",
   "metadata": {},
   "source": [
    "## 6.4 making and evalutating predictions"
   ]
  },
  {
   "cell_type": "code",
   "execution_count": 231,
   "id": "db848881-8a02-44f5-9d3d-1fb06208cc23",
   "metadata": {
    "tags": []
   },
   "outputs": [
    {
     "data": {
      "text/plain": [
       "tensor([[0.8600],\n",
       "        [0.8739],\n",
       "        [0.8878],\n",
       "        [0.9018],\n",
       "        [0.9157],\n",
       "        [0.9296],\n",
       "        [0.9436],\n",
       "        [0.9575],\n",
       "        [0.9714],\n",
       "        [0.9854]], device='cuda:0')"
      ]
     },
     "execution_count": 231,
     "metadata": {},
     "output_type": "execute_result"
    }
   ],
   "source": [
    "# Turn model into eval mode\n",
    "model_1.eval()\n",
    "\n",
    "# Make predictions on the test data\n",
    "with torch.inference_mode():\n",
    "  y_preds = model_1(X_test)\n",
    "  \n",
    "y_preds"
   ]
  },
  {
   "cell_type": "code",
   "execution_count": 233,
   "id": "c384be68-0afe-4eed-a062-404f81e1a92e",
   "metadata": {
    "tags": []
   },
   "outputs": [
    {
     "data": {
      "image/png": "[encoded data removed]",
      "text/plain": [
       "<Figure size 1000x700 with 1 Axes>"
      ]
     },
     "metadata": {},
     "output_type": "display_data"
    }
   ],
   "source": [
    "# Check out predictions visually\n",
    "plot_predictions(predictions=y_preds.cpu())"
   ]
  },
  {
   "cell_type": "markdown",
   "id": "5b0be751-0232-4a61-a350-8aee51301505",
   "metadata": {
    "tags": []
   },
   "source": [
    "## 6.5 Saving and loading a trained model"
   ]
  },
  {
   "cell_type": "code",
   "execution_count": 238,
   "id": "c7f5af98-6b13-4848-86ef-a79ec21653eb",
   "metadata": {
    "tags": []
   },
   "outputs": [
    {
     "name": "stdout",
     "output_type": "stream",
     "text": [
      "Saving model to: models/01_pytorch_workflow_model_1.pth\n"
     ]
    }
   ],
   "source": [
    "from pathlib import Path\n",
    "\n",
    "# 1. Create models directory\n",
    "MODEL_PATH = Path(\"models\")\n",
    "MODEL_PATH.mkdir(parents=True, exist_ok=True)\n",
    "\n",
    "# 2. Create model save path\n",
    "MODEL_NAME = \"01_pytorch_workflow_model_1.pth\"\n",
    "MODEL_SAVE_PATH = MODEL_PATH / MODEL_NAME\n",
    "\n",
    "# 3. Save the model state_dict\n",
    "print(f\"Saving model to: {MODEL_SAVE_PATH}\")\n",
    "torch.save(obj=model_1.state_dict(), f=MODEL_SAVE_PATH)"
   ]
  },
  {
   "cell_type": "code",
   "execution_count": 239,
   "id": "d13059f1-95b8-4d53-bd8d-c4182d962d04",
   "metadata": {
    "tags": []
   },
   "outputs": [
    {
     "data": {
      "text/plain": [
       "LinearRegressionModelV2(\n",
       "  (linear_layer): Linear(in_features=1, out_features=1, bias=True)\n",
       ")"
      ]
     },
     "execution_count": 239,
     "metadata": {},
     "output_type": "execute_result"
    }
   ],
   "source": [
    "# Load a PyTorch model\n",
    "loaded_model_1 = LinearRegressionModelV2()\n",
    "\n",
    "# Load the model_1 state_dict\n",
    "loaded_model_1.load_state_dict(torch.load(MODEL_SAVE_PATH))\n",
    "\n",
    "# Put the loaded model to device\n",
    "loaded_model_1.to(device)"
   ]
  },
  {
   "cell_type": "code",
   "execution_count": 240,
   "id": "d31e19cf-b612-4ef9-b687-6cfe5941c7c1",
   "metadata": {
    "tags": []
   },
   "outputs": [
    {
     "data": {
      "text/plain": [
       "OrderedDict([('linear_layer.weight', tensor([[0.6968]], device='cuda:0')),\n",
       "             ('linear_layer.bias', tensor([0.3025], device='cuda:0'))])"
      ]
     },
     "execution_count": 240,
     "metadata": {},
     "output_type": "execute_result"
    }
   ],
   "source": [
    "loaded_model_1.state_dict()"
   ]
  },
  {
   "cell_type": "code",
   "execution_count": 241,
   "id": "b246daf7-e5de-428e-885a-e6ae4735aabc",
   "metadata": {
    "tags": []
   },
   "outputs": [
    {
     "data": {
      "text/plain": [
       "tensor([[True],\n",
       "        [True],\n",
       "        [True],\n",
       "        [True],\n",
       "        [True],\n",
       "        [True],\n",
       "        [True],\n",
       "        [True],\n",
       "        [True],\n",
       "        [True]], device='cuda:0')"
      ]
     },
     "execution_count": 241,
     "metadata": {},
     "output_type": "execute_result"
    }
   ],
   "source": [
    "# Evaluate loaded model\n",
    "loaded_model_1.eval()\n",
    "with torch.inference_mode():\n",
    "  loaded_model_1_preds = loaded_model_1(X_test)\n",
    "  \n",
    "  \n",
    "y_preds == loaded_model_1_preds"
   ]
  },
  {
   "cell_type": "markdown",
   "id": "cd064bee-b4f5-4e5b-93f2-e6050578df48",
   "metadata": {},
   "source": [
    "## Exercises and extra-curriculum"
   ]
  },
  {
   "cell_type": "markdown",
   "id": "4a882d67-302d-45b2-8e84-7def0489a76d",
   "metadata": {},
   "source": [
    "### 1. Create a straight line dataset using the linear regression formula (weight * X + bias).\n",
    "* Set weight=0.3 and bias=0.9 there should be at least 100 datapoints total.\n",
    "* Split the data into 80% training, 20% testing.\n",
    "* Plot the training and testing data so it becomes visual.\n",
    "* Your output of the below cell should look something like:\n",
    "\n",
    "`Number of X samples: 100`\n",
    "\n",
    "`Number of y samples: 100`\n",
    "\n",
    "`First 10 X & y samples:\n",
    "\n",
    "`X: tensor([0.0000, 0.0100, 0.0200, 0.0300, 0.0400, 0.0500, 0.0600, 0.0700, 0.0800,\n",
    "        0.0900])`\n",
    "        \n",
    "`y: tensor([0.9000, 0.9030, 0.9060, 0.9090, 0.9120, 0.9150, 0.9180, 0.9210, 0.9240,\n",
    "        0.9270])`\n",
    "        \n",
    "Of course the numbers in X and y may be different but ideally they're created using the linear regression formula."
   ]
  },
  {
   "cell_type": "code",
   "execution_count": 3,
   "id": "3a81ea19-8be0-4f62-9a07-518e1f580cb9",
   "metadata": {
    "tags": []
   },
   "outputs": [
    {
     "name": "stdout",
     "output_type": "stream",
     "text": [
      "Number of X samples: 100\n",
      "Number of y samples: 100\n",
      "First 10 X & y samples:\n",
      "X: tensor([[0.0000],\n",
      "        [0.0200],\n",
      "        [0.0400],\n",
      "        [0.0600],\n",
      "        [0.0800],\n",
      "        [0.1000],\n",
      "        [0.1200],\n",
      "        [0.1400],\n",
      "        [0.1600],\n",
      "        [0.1800]])\n",
      "y: tensor([[0.9000],\n",
      "        [0.9060],\n",
      "        [0.9120],\n",
      "        [0.9180],\n",
      "        [0.9240],\n",
      "        [0.9300],\n",
      "        [0.9360],\n",
      "        [0.9420],\n",
      "        [0.9480],\n",
      "        [0.9540]])\n"
     ]
    }
   ],
   "source": [
    "device = 'cuda' if torch.cuda.is_available else 'cpu'\n",
    "\n",
    "# Create the data parameters\n",
    "weight = 0.3\n",
    "bias = 0.9\n",
    "\n",
    "# Make X and y using linear regression feature\n",
    "X = torch.arange(0, 2, 0.02).unsqueeze(dim=1)\n",
    "y = weight * X + bias\n",
    "\n",
    "print(f\"Number of X samples: {len(X)}\")\n",
    "print(f\"Number of y samples: {len(y)}\")\n",
    "print(f\"First 10 X & y samples:\\nX: {X[:10]}\\ny: {y[:10]}\")\n",
    "     "
   ]
  },
  {
   "cell_type": "code",
   "execution_count": 4,
   "id": "1d1ff0b9-d645-40be-b806-e93da86bec35",
   "metadata": {
    "tags": []
   },
   "outputs": [
    {
     "data": {
      "text/plain": [
       "(torch.Size([100, 1]), torch.Size([100, 1]))"
      ]
     },
     "execution_count": 4,
     "metadata": {},
     "output_type": "execute_result"
    }
   ],
   "source": [
    "X.shape, y.shape"
   ]
  },
  {
   "cell_type": "code",
   "execution_count": 5,
   "id": "ad9d3bc7-4a94-4e2e-9b09-e65887fa9f92",
   "metadata": {
    "tags": []
   },
   "outputs": [
    {
     "name": "stdout",
     "output_type": "stream",
     "text": [
      "80 80\n",
      "20 20\n"
     ]
    }
   ],
   "source": [
    "# Split the data into training and testing\n",
    "train_split = int(0.8*len(X))\n",
    "X_train, y_train = X[:train_split], y[:train_split]\n",
    "X_test, y_test = X[train_split:], y[train_split:]\n",
    "print(len(X_train), len(y_train))\n",
    "print(len(X_test), len(y_test))"
   ]
  },
  {
   "cell_type": "code",
   "execution_count": 9,
   "id": "5de05c7d-fb75-4c17-bf87-23d42eeb5234",
   "metadata": {
    "tags": []
   },
   "outputs": [
    {
     "data": {
      "image/png": "[encoded data removed]",
      "text/plain": [
       "<Figure size 1000x700 with 1 Axes>"
      ]
     },
     "metadata": {},
     "output_type": "display_data"
    }
   ],
   "source": [
    "# Plot the training and testing data \n",
    "plot_predictions(X_train, y_train, X_test, y_test)"
   ]
  },
  {
   "cell_type": "markdown",
   "id": "2076d53d-c3f6-493a-b2bd-fbac6e69089b",
   "metadata": {},
   "source": [
    "### 2. Build a PyTorch model by subclassing nn.Module.\n",
    "* Inside should be a randomly initialized nn.Parameter() with requires_grad=True, one for weights and one for bias.\n",
    "* Implement the forward() method to compute the linear regression function you used to create the dataset in 1.\n",
    "* Once you've constructed the model, make an instance of it and check its state_dict().\n",
    "* Note: If you'd like to use nn.Linear() instead of nn.Parameter() you can."
   ]
  },
  {
   "cell_type": "code",
   "execution_count": 10,
   "id": "ac07b81d-cc7e-4546-b123-6945f2652f19",
   "metadata": {
    "tags": []
   },
   "outputs": [],
   "source": [
    "# Create PyTorch linear regression model by subclassing nn.Module\n",
    "class LinearRegressionModelV3(nn.Module):\n",
    "  def __init__(self):\n",
    "    super().__init__()\n",
    "    self.linear_layer = nn.Linear(in_features=1, \n",
    "                                  out_features=1)\n",
    "    \n",
    "  def forward(self, x):\n",
    "    return self.linear_layer(x)"
   ]
  },
  {
   "cell_type": "code",
   "execution_count": 11,
   "id": "9a15f967-c729-4bca-8f76-bfe0f043cd6d",
   "metadata": {
    "tags": []
   },
   "outputs": [
    {
     "name": "stdout",
     "output_type": "stream",
     "text": [
      "OrderedDict([('linear_layer.weight', tensor([[0.6197]])), ('linear_layer.bias', tensor([-0.4771]))])\n"
     ]
    },
    {
     "data": {
      "text/plain": [
       "device(type='cuda', index=0)"
      ]
     },
     "execution_count": 11,
     "metadata": {},
     "output_type": "execute_result"
    }
   ],
   "source": [
    "# Instantiate the model and put it to the target device\n",
    "model_2 = LinearRegressionModelV3()\n",
    "print(model_2.state_dict())\n",
    "model_2.to(device)\n",
    "next(model_2.parameters()).device"
   ]
  },
  {
   "cell_type": "markdown",
   "id": "8b5511ab-acc5-495a-a40d-39c7e14d3826",
   "metadata": {},
   "source": [
    "### 3. Create a loss function and optimizer using nn.L1Loss() and torch.optim.SGD(params, lr) respectively.\n",
    "* Set the learning rate of the optimizer to be 0.01 and the parameters to optimize should be the model parameters from the model you created in 2.\n",
    "* Write a training loop to perform the appropriate training steps for 300 epochs.\n",
    "* The training loop should test the model on the test dataset every 20 epochs."
   ]
  },
  {
   "cell_type": "code",
   "execution_count": 12,
   "id": "01cf967c-9ce9-42b4-baf4-8e9e08fd9f3e",
   "metadata": {
    "tags": []
   },
   "outputs": [],
   "source": [
    "# Create the loss function and optimizer\n",
    "loss_fn = nn.L1Loss()\n",
    "\n",
    "optimizer = torch.optim.SGD(params=model_2.parameters(),\n",
    "                            lr=0.01)"
   ]
  },
  {
   "cell_type": "code",
   "execution_count": 26,
   "id": "6fb41298-b7ac-4107-a2ce-c218ea314dd9",
   "metadata": {
    "tags": []
   },
   "outputs": [
    {
     "name": "stdout",
     "output_type": "stream",
     "text": [
      "Epoch: 0 | Train loss: 0.012 | Test loss: 0.004\n",
      "Epoch: 20 | Train loss: 0.012 | Test loss: 0.004\n",
      "Epoch: 40 | Train loss: 0.012 | Test loss: 0.004\n",
      "Epoch: 60 | Train loss: 0.012 | Test loss: 0.004\n",
      "Epoch: 80 | Train loss: 0.012 | Test loss: 0.004\n",
      "Epoch: 100 | Train loss: 0.012 | Test loss: 0.004\n",
      "Epoch: 120 | Train loss: 0.012 | Test loss: 0.004\n",
      "Epoch: 140 | Train loss: 0.012 | Test loss: 0.004\n",
      "Epoch: 160 | Train loss: 0.012 | Test loss: 0.004\n",
      "Epoch: 180 | Train loss: 0.012 | Test loss: 0.004\n",
      "Epoch: 200 | Train loss: 0.012 | Test loss: 0.004\n",
      "Epoch: 220 | Train loss: 0.012 | Test loss: 0.004\n",
      "Epoch: 240 | Train loss: 0.012 | Test loss: 0.004\n",
      "Epoch: 260 | Train loss: 0.012 | Test loss: 0.004\n",
      "Epoch: 280 | Train loss: 0.012 | Test loss: 0.004\n"
     ]
    }
   ],
   "source": [
    "# Training loop\n",
    "\n",
    "\n",
    "# Train model for 300 epochs\n",
    "epochs = 300\n",
    "\n",
    "# Send data to target device\n",
    "X_train = X_train.to(device)\n",
    "y_train = y_train.to(device)\n",
    "X_test = X_test.to(device)\n",
    "y_test = y_test.to(device)\n",
    "\n",
    "for epoch in range(epochs):\n",
    "  ### Training\n",
    "\n",
    "  # Put model in train mode\n",
    "  model_2.train()\n",
    "\n",
    "  # 1. Forward pass\n",
    "  y_pred = model_2(X_train) \n",
    "\n",
    "  # 2. Calculate loss\n",
    "  loss = loss_fn(y_pred, y_train)\n",
    "\n",
    "  # 3. Zero gradients\n",
    "  optimizer.zero_grad()\n",
    "\n",
    "  # 4. Backpropagation\n",
    "  loss.backward()\n",
    "\n",
    "  # 5. Step the optimizer\n",
    "  optimizer.step()\n",
    "\n",
    "  ### Perform testing every 20 epochs\n",
    "  if epoch % 20 == 0:\n",
    "\n",
    "    # Put model in evaluation mode and setup inference context \n",
    "    model_2.eval()\n",
    "    with torch.inference_mode():\n",
    "      # 1. Forward pass\n",
    "      test_pred = model_2(X_test) \n",
    "      # 2. Calculate test loss\n",
    "      test_loss = loss_fn(test_pred, y_test)\n",
    "      # Print out what's happening\n",
    "      if epoch % 10 == 0:\n",
    "        print(f\"Epoch: {epoch} | Train loss: {loss:.3f} | Test loss: {test_loss:.3f}\")"
   ]
  },
  {
   "cell_type": "code",
   "execution_count": 27,
   "id": "8b9165f2-948a-4438-b91c-b8eec8c81db7",
   "metadata": {
    "tags": []
   },
   "outputs": [
    {
     "data": {
      "text/plain": [
       "OrderedDict([('linear_layer.weight', tensor([[0.3086]], device='cuda:0')),\n",
       "             ('linear_layer.bias', tensor([0.9051], device='cuda:0'))])"
      ]
     },
     "execution_count": 27,
     "metadata": {},
     "output_type": "execute_result"
    }
   ],
   "source": [
    "model_2.state_dict()"
   ]
  },
  {
   "cell_type": "markdown",
   "id": "9f74d4a8-e990-45e2-84b8-11fe9df95946",
   "metadata": {},
   "source": [
    "### 4. Make predictions with the trained model on the test data.\n",
    "* Visualize these predictions against the original training and testing data (note: you may need to make sure the predictions are not on the GPU if you want to use non-CUDA-enabled libraries such as matplotlib to plot)."
   ]
  },
  {
   "cell_type": "code",
   "execution_count": 28,
   "id": "c8d21be0-3e4b-429c-bf80-6b9d489ceee0",
   "metadata": {
    "tags": []
   },
   "outputs": [],
   "source": [
    "# Make predictions with the model\n",
    "model_2.eval()\n",
    "with torch.inference_mode():\n",
    "  y_preds = model_2(X_test)"
   ]
  },
  {
   "cell_type": "code",
   "execution_count": 30,
   "id": "5ec0aa1b-576b-4684-9178-53cd68d15282",
   "metadata": {
    "tags": []
   },
   "outputs": [
    {
     "data": {
      "image/png": "[encoded data removed]",
      "text/plain": [
       "<Figure size 1000x700 with 1 Axes>"
      ]
     },
     "metadata": {},
     "output_type": "display_data"
    }
   ],
   "source": [
    "# Plot the predictions (these may need to be on a specific device)\n",
    "plot_predictions(X_train.cpu(), y_train.cpu(), X_test.cpu(), y_test.cpu(), predictions=y_preds.cpu())"
   ]
  },
  {
   "cell_type": "markdown",
   "id": "9247900e-9af0-457a-a7de-1b5b53490aa4",
   "metadata": {},
   "source": [
    "### 5. Save your trained model's state_dict() to file.\n",
    "\n",
    "* Create a new instance of your model class you made in 2. and load in the state_dict() you just saved to it.\n",
    "* Perform predictions on your test data with the loaded model and confirm they match the original model predictions from 4."
   ]
  },
  {
   "cell_type": "code",
   "execution_count": 36,
   "id": "ee544bb7-49a3-4d94-993e-c484327120f8",
   "metadata": {
    "tags": []
   },
   "outputs": [],
   "source": [
    "from pathlib import Path\n",
    "\n",
    "# 1. Create models directory \n",
    "MODEL_PATH = Path(\"models\")\n",
    "MODEL_PATH.mkdir(parents=True, exist_ok=True)\n",
    "\n",
    "# 2. Create model save path \n",
    "MODEL_NAME = \"01_pytorch_workflow_model_2.pth\"\n",
    "MODEL_SAVE_PATH = MODEL_PATH / MODEL_NAME\n",
    "\n",
    "# 3. Save the model state dict\n",
    "torch.save(model_2.state_dict(), MODEL_SAVE_PATH)"
   ]
  },
  {
   "cell_type": "code",
   "execution_count": 37,
   "id": "30c7225b-a298-46cb-be67-87d4468b2afa",
   "metadata": {
    "tags": []
   },
   "outputs": [
    {
     "data": {
      "text/plain": [
       "<All keys matched successfully>"
      ]
     },
     "execution_count": 37,
     "metadata": {},
     "output_type": "execute_result"
    }
   ],
   "source": [
    "# Create new instance of model and load saved state dict (make sure to put it on the target device)\n",
    "loaded_model_2 = LinearRegressionModelV3()\n",
    "loaded_model_2.state_dict()\n",
    "\n",
    "loaded_model_2.load_state_dict(torch.load(MODEL_SAVE_PATH))"
   ]
  },
  {
   "cell_type": "code",
   "execution_count": 39,
   "id": "1bbfe09e-17a6-42a9-a8ea-b95fa49190cb",
   "metadata": {
    "tags": []
   },
   "outputs": [
    {
     "data": {
      "text/plain": [
       "OrderedDict([('linear_layer.weight', tensor([[0.3086]], device='cuda:0')),\n",
       "             ('linear_layer.bias', tensor([0.9051], device='cuda:0'))])"
      ]
     },
     "execution_count": 39,
     "metadata": {},
     "output_type": "execute_result"
    }
   ],
   "source": [
    "loaded_model_2.to(device)\n",
    "loaded_model_2.state_dict()"
   ]
  },
  {
   "cell_type": "code",
   "execution_count": 40,
   "id": "bce958af-de04-4e59-92e8-64b8e023d6c6",
   "metadata": {
    "tags": []
   },
   "outputs": [],
   "source": [
    "# Make predictions with loaded model and compare them to the previous\n",
    "loaded_model_2.eval()\n",
    "with torch.inference_mode():\n",
    "  y_preds_new = loaded_model_2(X_test)\n",
    "  "
   ]
  },
  {
   "cell_type": "code",
   "execution_count": 42,
   "id": "881ca087-b26f-4edf-8486-6a108a04091d",
   "metadata": {
    "tags": []
   },
   "outputs": [
    {
     "data": {
      "image/png": "[encoded data removed]",
      "text/plain": [
       "<Figure size 1000x700 with 1 Axes>"
      ]
     },
     "metadata": {},
     "output_type": "display_data"
    }
   ],
   "source": [
    "plot_predictions(predictions=y_preds_new.cpu())"
   ]
  },
  {
   "cell_type": "code",
   "execution_count": 43,
   "id": "13b82ecd-8f8f-43fd-837f-51627f0b28a8",
   "metadata": {
    "tags": []
   },
   "outputs": [
    {
     "data": {
      "text/plain": [
       "tensor([[True],\n",
       "        [True],\n",
       "        [True],\n",
       "        [True],\n",
       "        [True],\n",
       "        [True],\n",
       "        [True],\n",
       "        [True],\n",
       "        [True],\n",
       "        [True],\n",
       "        [True],\n",
       "        [True],\n",
       "        [True],\n",
       "        [True],\n",
       "        [True],\n",
       "        [True],\n",
       "        [True],\n",
       "        [True],\n",
       "        [True],\n",
       "        [True]], device='cuda:0')"
      ]
     },
     "execution_count": 43,
     "metadata": {},
     "output_type": "execute_result"
    }
   ],
   "source": [
    "y_preds == y_preds_new"
   ]
  }
 ],
 "metadata": {
  "kernelspec": {
   "display_name": "Python 3 (ipykernel)",
   "language": "python",
   "name": "python3"
  },
  "language_info": {
   "codemirror_mode": {
    "name": "ipython",
    "version": 3
   },
   "file_extension": ".py",
   "mimetype": "text/x-python",
   "name": "python",
   "nbconvert_exporter": "python",
   "pygments_lexer": "ipython3",
   "version": "3.8.10"
  }
 },
 "nbformat": 4,
 "nbformat_minor": 5
}
